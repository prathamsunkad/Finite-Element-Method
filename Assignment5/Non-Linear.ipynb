{
 "cells": [
  {
   "cell_type": "code",
   "execution_count": 1,
   "metadata": {},
   "outputs": [],
   "source": [
    "import numpy as np\n",
    "import matplotlib.pyplot as plt"
   ]
  },
  {
   "cell_type": "code",
   "execution_count": 6,
   "metadata": {},
   "outputs": [],
   "source": [
    "def construct_bilinear(x_ini, x_final, n_ele):\n",
    "    \n",
    "    l = x_final - x_ini\n",
    "    element_width = (x_final - x_ini)/n_ele\n",
    "    A_x = np.zeros((n_ele +1,n_ele +1))\n",
    "    # A_y = np.zeros((n,n))\n",
    "    \n",
    "    \n",
    "    for i in range(n_ele):\n",
    "        x1 = x_ini + i*element_width\n",
    "        x2 = x_ini + (i+1)*element_width\n",
    "        pts = [-1*3**(-0.5), 3**(-0.5)]\n",
    "        weights = [1,1]\n",
    "        \n",
    "        a_x = np.zeros((2,2))\n",
    "        # a_y = np.zeros((3,3))\n",
    "        jac = 1/(x2 - x1)\n",
    "        dphi = np.array([[x1, x2]]) @ np.array([[-1,1],[-1,1]])\n",
    "        for j in range(len(weights)):\n",
    "            # N_x = np.array([-1, 1, 0]) * (1/(x2-x1)) + np.array([-1, 0, 1])*(1/(x3-x1))\n",
    "            # N_y = np.array([-1, 1, 0]) * (1/(y2-y1)) + np.array([-1, 0, 1])*(1/(y3-y1))\n",
    "            x = x1*(1-pts[j])/2 + x2*(1+pts[j])/2 \n",
    "            # y = y1*(1-pts[j])/2 + y2*pts[j][0] + y3*pts[j][1]\n",
    "            # kappa = properties(x,y)[0]\n",
    "            N_x = dphi[0,:]\n",
    "            # N_y = dphi[1,:]\n",
    "            N_x = N_x.reshape((2, 1))\n",
    "            # N_y = N_y.reshape((3, 1))\n",
    "            a_x += (N_x @ N_x.T)*jac*weights[j]\n",
    "            # a_y += (N_y @ N_y.T)*jac*weights[j]*kappa\n",
    "        \n",
    "            A_x[i:i+2, i:i+2] += a_x\n",
    "                # A_y[int(nodes[k]-1), int(nodes[l]-1)] += a_y[k][l]\n",
    "                    \n",
    "        # A_2d[0,0] += (numerical_intergation(neg_func, xi, xi_1)*jac)\n",
    "        # A_2d[0,1] += (numerical_intergation(prod_func, xi, xi_1)*jac)\n",
    "        # A_2d[1,0] += (numerical_intergation(prod_func, xi, xi_1)*jac)\n",
    "        # A_2d[1,1] += (numerical_intergation(pos_func, xi, xi_1)*jac)\n",
    "        \n",
    "        # A[i:i+2, i:i+2] += A_2d\n",
    "        \n",
    "    return A_x"
   ]
  },
  {
   "cell_type": "code",
   "execution_count": null,
   "metadata": {},
   "outputs": [],
   "source": [
    "K = construct_bilinear(0, 1, 4)"
   ]
  },
  {
   "cell_type": "code",
   "execution_count": 8,
   "metadata": {},
   "outputs": [
    {
     "data": {
      "text/plain": [
       "array([[  0.75,  -0.75,   0.  ,   0.  ,   0.  ],\n",
       "       [ -0.75,   7.5 ,  -6.75,   0.  ,   0.  ],\n",
       "       [  0.  ,  -6.75,  25.5 , -18.75,   0.  ],\n",
       "       [  0.  ,   0.  , -18.75,  55.5 , -36.75],\n",
       "       [  0.  ,   0.  ,   0.  , -36.75,  36.75]])"
      ]
     },
     "execution_count": 8,
     "metadata": {},
     "output_type": "execute_result"
    }
   ],
   "source": [
    "K"
   ]
  },
  {
   "cell_type": "code",
   "execution_count": 11,
   "metadata": {},
   "outputs": [],
   "source": [
    "def construct_forcing(x_ini, x_final, n_ele):\n",
    "    \n",
    "    l = x_final - x_ini\n",
    "    element_width = (x_final - x_ini)/n_ele\n",
    "    \n",
    "    f = np.zeros((n_ele+1,1))\n",
    "    \n",
    "    for i in range(n_ele):\n",
    "        x1 = x_ini + i*element_width\n",
    "        x2 = x_ini + (i+1)*element_width\n",
    "        pts = [-1*3**(-0.5), 3**(-0.5)]\n",
    "        weights = [1,1]\n",
    "        jac = 1/(x2-x1)\n",
    "        \n",
    "        f_2d = np.zeros((2,1))\n",
    "        for j in range(len(weights)):\n",
    "            x = x1*(1-pts[j])/2 + x2*(1+pts[j]) \n",
    "            # y = y1*(1-pts[j][0] - pts[j][1]) + y2*pts[j][0] + y3*pts[j][1]\n",
    "            N = 4*np.array([(1-pts[j])/2, (1+pts[j])/2])\n",
    "            N = N.reshape((2, 1))\n",
    "            f_2d += (N)*jac*weights[j]\n",
    "        \n",
    "    \n",
    "        f[i:i+2] += f_2d\n",
    "                    \n",
    "        # A_2d[0,0] += (numerical_intergation(neg_func, xi, xi_1)*jac)\n",
    "        # A_2d[0,1] += (numerical_intergation(prod_func, xi, xi_1)*jac)\n",
    "        # A_2d[1,0] += (numerical_intergation(prod_func, xi, xi_1)*jac)\n",
    "        # A_2d[1,1] += (numerical_intergation(pos_func, xi, xi_1)*jac)\n",
    "        \n",
    "        # A[i:i+2, i:i+2] += A_2d\n",
    "        \n",
    "    return f"
   ]
  },
  {
   "cell_type": "code",
   "execution_count": 12,
   "metadata": {},
   "outputs": [],
   "source": [
    "f = construct_forcing(0,1,4)"
   ]
  },
  {
   "cell_type": "code",
   "execution_count": 13,
   "metadata": {},
   "outputs": [
    {
     "data": {
      "text/plain": [
       "array([[16.],\n",
       "       [32.],\n",
       "       [32.],\n",
       "       [32.],\n",
       "       [16.]])"
      ]
     },
     "execution_count": 13,
     "metadata": {},
     "output_type": "execute_result"
    }
   ],
   "source": [
    "f"
   ]
  },
  {
   "cell_type": "code",
   "execution_count": null,
   "metadata": {},
   "outputs": [],
   "source": []
  }
 ],
 "metadata": {
  "kernelspec": {
   "display_name": "pytorch",
   "language": "python",
   "name": "python3"
  },
  "language_info": {
   "codemirror_mode": {
    "name": "ipython",
    "version": 3
   },
   "file_extension": ".py",
   "mimetype": "text/x-python",
   "name": "python",
   "nbconvert_exporter": "python",
   "pygments_lexer": "ipython3",
   "version": "3.11.5"
  }
 },
 "nbformat": 4,
 "nbformat_minor": 2
}
